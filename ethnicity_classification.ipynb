{
 "cells": [
  {
   "cell_type": "code",
   "execution_count": null,
   "metadata": {},
   "outputs": [],
   "source": [
    "import cv2\n",
    "import torch\n",
    "from transformers import AutoImageProcessor, AutoModelForImageClassification, AutoConfig\n",
    "from PIL import Image\n",
    "import numpy as np"
   ]
  },
  {
   "cell_type": "code",
   "execution_count": null,
   "metadata": {},
   "outputs": [
    {
     "name": "stdout",
     "output_type": "stream",
     "text": [
      "Frame-level classifications: ['caucasian', 'caucasian', 'caucasian', 'caucasian', 'caucasian', 'caucasian', 'caucasian', 'caucasian', 'caucasian', 'caucasian', 'caucasian', 'caucasian', 'caucasian', 'caucasian', 'caucasian', 'caucasian', 'caucasian', 'caucasian', 'caucasian', 'caucasian', 'caucasian', 'caucasian', 'caucasian', 'caucasian', 'caucasian', 'caucasian', 'caucasian', 'caucasian', 'caucasian', 'caucasian', 'caucasian', 'caucasian', 'caucasian', 'caucasian', 'caucasian', 'caucasian', 'caucasian', 'caucasian', 'caucasian', 'caucasian', 'caucasian', 'caucasian', 'caucasian', 'caucasian', 'caucasian', 'caucasian', 'caucasian', 'caucasian', 'caucasian', 'caucasian', 'caucasian', 'caucasian', 'caucasian', 'caucasian', 'caucasian', 'caucasian', 'caucasian', 'caucasian', 'caucasian', 'caucasian', 'caucasian', 'caucasian', 'caucasian', 'caucasian', 'caucasian', 'caucasian', 'caucasian', 'caucasian', 'caucasian', 'caucasian', 'caucasian', 'caucasian', 'caucasian', 'caucasian', 'caucasian', 'caucasian', 'caucasian', 'caucasian', 'caucasian', 'caucasian', 'caucasian', 'caucasian', 'caucasian', 'caucasian', 'caucasian', 'caucasian', 'caucasian', 'caucasian', 'caucasian', 'caucasian', 'caucasian', 'caucasian', 'caucasian', 'caucasian', 'caucasian', 'caucasian', 'caucasian', 'caucasian', 'caucasian', 'caucasian', 'caucasian', 'caucasian', 'caucasian', 'caucasian', 'caucasian', 'caucasian', 'hispanic', 'caucasian', 'hispanic', 'caucasian', 'hispanic', 'hispanic', 'hispanic', 'hispanic', 'caucasian', 'hispanic', 'caucasian', 'hispanic', 'caucasian', 'hispanic', 'hispanic', 'caucasian']\n"
     ]
    }
   ],
   "source": [
    "\n",
    "# Load the ethnicity classifier model, processor, and configuration\n",
    "processor = AutoImageProcessor.from_pretrained(\"cledoux42/Ethnicity_Test_v003\")\n",
    "model = AutoModelForImageClassification.from_pretrained(\"cledoux42/Ethnicity_Test_v003\")\n",
    "config = AutoConfig.from_pretrained(\"cledoux42/Ethnicity_Test_v003\")\n",
    "\n",
    "# Retrieve the id2label mapping\n",
    "id2label = config.id2label\n",
    "\n",
    "# Video file path\n",
    "video_path = '/Users/qwu_sf/CelebV-HQ/downloaded_celebvhq/raw/vtznSlhouZc.mp4'\n",
    "\n",
    "# Initialize video capture\n",
    "cap = cv2.VideoCapture(video_path)\n",
    "\n",
    "# Frame extraction settings\n",
    "frame_rate = 30  # standard frame rate ~30 frames per second \n",
    "frame_count = 0\n",
    "results = []\n",
    "\n",
    "while cap.isOpened():\n",
    "    ret, frame = cap.read()\n",
    "    if not ret:\n",
    "        break\n",
    "\n",
    "    # Extract frames at regular intervals\n",
    "    if frame_count % frame_rate == 0:\n",
    "        # Convert frame to PIL Image\n",
    "        frame_rgb = cv2.cvtColor(frame, cv2.COLOR_BGR2RGB)\n",
    "        pil_image = Image.fromarray(frame_rgb)\n",
    "\n",
    "        # Preprocess the image\n",
    "        inputs = processor(images=pil_image, return_tensors=\"pt\")\n",
    "\n",
    "        # Perform classification\n",
    "        with torch.no_grad():\n",
    "            outputs = model(**inputs)\n",
    "            predictions = torch.nn.functional.softmax(outputs.logits, dim=-1)\n",
    "            predicted_class = predictions.argmax().item()\n",
    "        \n",
    "        # Map predicted class index to label\n",
    "        predicted_label = id2label[predicted_class]\n",
    "        \n",
    "        # Store the result\n",
    "        results.append(predicted_label)\n",
    "\n",
    "    frame_count += 1\n",
    "\n",
    "# Release the video capture object\n",
    "cap.release()\n",
    "\n",
    "# Analyze results\n",
    "print(\"Frame-level classifications:\", results)\n"
   ]
  }
 ],
 "metadata": {
  "kernelspec": {
   "display_name": "py310",
   "language": "python",
   "name": "python3"
  },
  "language_info": {
   "codemirror_mode": {
    "name": "ipython",
    "version": 3
   },
   "file_extension": ".py",
   "mimetype": "text/x-python",
   "name": "python",
   "nbconvert_exporter": "python",
   "pygments_lexer": "ipython3",
   "version": "3.10.15"
  }
 },
 "nbformat": 4,
 "nbformat_minor": 2
}
